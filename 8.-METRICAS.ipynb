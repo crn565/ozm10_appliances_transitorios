{
 "cells": [
  {
   "cell_type": "markdown",
   "metadata": {},
   "source": [
    "# 8- MÉTRICAS"
   ]
  },
  {
   "cell_type": "markdown",
   "metadata": {},
   "source": [
    " La rápida expansión de NILM y el desarrollo de diferentes algoritmos, han hecho que sea esencial proporcionar una evaluación de rendimiento mediante el uso de métricas de desempeño. Las métricas de evaluación, comparan los resultados de la desagregaciónn (predicciones) de los modelos entrenados con los datos del set de validación (mediciones reales de cada proceso). NILMTK cuenta con el cálculo de métricas de evaluación mediante el uso del MeterGroup para la validación de los resultados mediante el set de validación \n",
    " Vamos ahora analizar en nuestro dataset diferentes metricas como son FEAC,F1, EAE ,MNEAP y RMSE  que  resumimos a continuacion en el siguinte cuadro:"
   ]
  },
  {
   "cell_type": "markdown",
   "metadata": {},
   "source": [
    "![metricas](metricas.jpg)"
   ]
  },
  {
   "cell_type": "markdown",
   "metadata": {},
   "source": [
    "En primer lugar cargamos las ibrerías y realizamos otros ajustes:"
   ]
  },
  {
   "cell_type": "code",
   "execution_count": 4,
   "metadata": {},
   "outputs": [],
   "source": [
    "%matplotlib inline\n",
    "import pandas as pd\n",
    "import numpy as np\n",
    "import matplotlib.pyplot as plt\n",
    "from matplotlib import rcParams\n",
    "import warnings\n",
    "warnings. filterwarnings(\"ignore\")\n",
    "plt.style.use('bmh')\n",
    "\n",
    "from nilmtk import TimeFrame, MeterGroup, HDFDataStore, DataSet\n",
    "from nilmtk.metrics import fraction_energy_assigned_correctly, mean_normalized_error_power\n",
    "from nilmtk.metrics import rms_error_power, f1_score, error_in_assigned_energy\n",
    "\n",
    "data_dir='./data/'"
   ]
  },
  {
   "cell_type": "markdown",
   "metadata": {},
   "source": [
    "### Métricas individuales del modelo"
   ]
  },
  {
   "cell_type": "code",
   "execution_count": 5,
   "metadata": {},
   "outputs": [],
   "source": [
    "#Librerías\n",
    "from nilmtk.metrics import f1_score\n",
    "from nilmtk.metrics import error_in_assigned_energy\n",
    "from nilmtk.metrics import mean_normalized_error_power\n",
    "from nilmtk.metrics import rms_error_power\n",
    "from nilmtk.metrics import fraction_energy_assigned_correctly"
   ]
  },
  {
   "cell_type": "code",
   "execution_count": 19,
   "metadata": {},
   "outputs": [
    {
     "name": "stdout",
     "output_type": "stream",
     "text": [
      "Medidor de cabecera para desagregación:\n",
      "ElecMeter(instance=1, building=1, dataset='dsualmh', site_meter, appliances=[])\n",
      "\n",
      "Dispositivos para validación de entrenamiento:\n",
      "MeterGroup(meters=\n",
      "  ElecMeter(instance=2, building=1, dataset='dsualmh', appliances=[Appliance(type='electric furnace', instance=1)])\n",
      "  ElecMeter(instance=3, building=1, dataset='dsualmh', appliances=[Appliance(type='microwave', instance=1)])\n",
      "  ElecMeter(instance=4, building=1, dataset='dsualmh', appliances=[Appliance(type='television', instance=1)])\n",
      "  ElecMeter(instance=5, building=1, dataset='dsualmh', appliances=[Appliance(type='kettle', instance=1)])\n",
      "  ElecMeter(instance=6, building=1, dataset='dsualmh', appliances=[Appliance(type='vacuum cleaner', instance=1)])\n",
      "  ElecMeter(instance=7, building=1, dataset='dsualmh', appliances=[Appliance(type='electric space heater', instance=1)])\n",
      "  ElecMeter(instance=8, building=1, dataset='dsualmh', appliances=[Appliance(type='electric shower heater', instance=1)])\n",
      "  ElecMeter(instance=9, building=1, dataset='dsualmh', appliances=[Appliance(type='fan', instance=1)])\n",
      "  ElecMeter(instance=10, building=1, dataset='dsualmh', appliances=[Appliance(type='fridge', instance=1)])\n",
      "  ElecMeter(instance=11, building=1, dataset='dsualmh', appliances=[Appliance(type='freezer', instance=1)])\n",
      ")\n",
      "\n",
      "\n",
      "Done!\n"
     ]
    },
    {
     "data": {
      "text/html": [
       "<div>\n",
       "<style scoped>\n",
       "    .dataframe tbody tr th:only-of-type {\n",
       "        vertical-align: middle;\n",
       "    }\n",
       "\n",
       "    .dataframe tbody tr th {\n",
       "        vertical-align: top;\n",
       "    }\n",
       "\n",
       "    .dataframe thead th {\n",
       "        text-align: right;\n",
       "    }\n",
       "</style>\n",
       "<table border=\"1\" class=\"dataframe\">\n",
       "  <thead>\n",
       "    <tr style=\"text-align: right;\">\n",
       "      <th></th>\n",
       "      <th>Electric furnace</th>\n",
       "      <th>Microwave</th>\n",
       "      <th>Television</th>\n",
       "      <th>Kettle</th>\n",
       "      <th>Vacuum cleaner</th>\n",
       "      <th>Electric space heater</th>\n",
       "      <th>Electric shower heater</th>\n",
       "      <th>Fan</th>\n",
       "      <th>Fridge</th>\n",
       "      <th>Freezer</th>\n",
       "    </tr>\n",
       "  </thead>\n",
       "  <tbody>\n",
       "    <tr>\n",
       "      <th>F1</th>\n",
       "      <td>0.229</td>\n",
       "      <td>0.062</td>\n",
       "      <td>0.606</td>\n",
       "      <td>0.121</td>\n",
       "      <td>0.176</td>\n",
       "      <td>0.176</td>\n",
       "      <td>0.143</td>\n",
       "      <td>0.519</td>\n",
       "      <td>0.591</td>\n",
       "      <td>0.410</td>\n",
       "    </tr>\n",
       "    <tr>\n",
       "      <th>EAE</th>\n",
       "      <td>0.000</td>\n",
       "      <td>0.000</td>\n",
       "      <td>0.000</td>\n",
       "      <td>0.000</td>\n",
       "      <td>0.000</td>\n",
       "      <td>0.000</td>\n",
       "      <td>0.000</td>\n",
       "      <td>0.000</td>\n",
       "      <td>0.000</td>\n",
       "      <td>0.000</td>\n",
       "    </tr>\n",
       "    <tr>\n",
       "      <th>MNEAP</th>\n",
       "      <td>1.185</td>\n",
       "      <td>3.618</td>\n",
       "      <td>0.576</td>\n",
       "      <td>1.714</td>\n",
       "      <td>2.094</td>\n",
       "      <td>1.258</td>\n",
       "      <td>2.275</td>\n",
       "      <td>0.623</td>\n",
       "      <td>0.665</td>\n",
       "      <td>0.742</td>\n",
       "    </tr>\n",
       "    <tr>\n",
       "      <th>RMSE</th>\n",
       "      <td>741.077</td>\n",
       "      <td>312.334</td>\n",
       "      <td>20.639</td>\n",
       "      <td>546.771</td>\n",
       "      <td>218.454</td>\n",
       "      <td>896.857</td>\n",
       "      <td>733.203</td>\n",
       "      <td>17.190</td>\n",
       "      <td>34.358</td>\n",
       "      <td>28.030</td>\n",
       "    </tr>\n",
       "  </tbody>\n",
       "</table>\n",
       "</div>"
      ],
      "text/plain": [
       "       Electric furnace  Microwave  Television   Kettle  Vacuum cleaner  \\\n",
       "F1                0.229      0.062       0.606    0.121           0.176   \n",
       "EAE               0.000      0.000       0.000    0.000           0.000   \n",
       "MNEAP             1.185      3.618       0.576    1.714           2.094   \n",
       "RMSE            741.077    312.334      20.639  546.771         218.454   \n",
       "\n",
       "       Electric space heater  Electric shower heater     Fan  Fridge  Freezer  \n",
       "F1                     0.176                   0.143   0.519   0.591    0.410  \n",
       "EAE                    0.000                   0.000   0.000   0.000    0.000  \n",
       "MNEAP                  1.258                   2.275   0.623   0.665    0.742  \n",
       "RMSE                 896.857                 733.203  17.190  34.358   28.030  "
      ]
     },
     "execution_count": 19,
     "metadata": {},
     "output_type": "execute_result"
    }
   ],
   "source": [
    "\n",
    "labels = pd.DataFrame({'Instances': list(range(1,12)),\n",
    "                       'Meters': ['Main', 'Electric furnace', 'Microwave','Television','Kettle','Vacuum cleaner','Electric space heater','Electric shower heater','Fan','Fridge','Freezer']})\n",
    "\n",
    "\n",
    " \n",
    "\n",
    "#Set para validación\n",
    "valid = DataSet('dsualmh.h5')\n",
    "valid.set_window(start=\"2023-03-07 12:10:00\", end=\"2023-03-07 12:41:00\")\n",
    "valid_elec = valid.buildings[1].elec\n",
    "\n",
    "print('Medidor de cabecera para desagregación:')\n",
    "valid_Main = valid_elec.mains()\n",
    "print(valid_Main)\n",
    "\n",
    "print('\\nDispositivos para validación de entrenamiento:')\n",
    "valid_Devices = valid_elec.select(instance=[2,3,4,5,6,7,8,9,10,11])\n",
    "print(valid_Devices)\n",
    "\n",
    "\n",
    "\n",
    "\n",
    "index = list(labels['Meters'][1:11])\n",
    "met = []\n",
    "e = []\n",
    "\n",
    "\n",
    "#EL MEJOR ES FHMM 60 SEG\n",
    "\n",
    "#Datos de Dispositivos: predicción  FHMM\n",
    "#periods = { '35s':35, '60s':60, '5min':60*5, '10min':60*10}\n",
    "\n",
    "#dataset=DataSet(data_dir+'NILM/Results/FHMM_35s_first_pred.h5')\n",
    "#\tElectric furnace\tMicrowave\tTelevision\tKettle\tVacuum cleaner\tElectric space heater\tElectric shower heater\tFan\tFridge\tFreezer\n",
    "#F1\t0.233\t0.000\t0.632\t0.333\t0.267\t0.290\t0.000\t0.578\t0.531\t0.486\n",
    "#EAE\t0.066\t0.092\t0.004\t0.100\t0.113\t0.076\t0.036\t0.001\t0.002\t0.005\n",
    "#MNEAP\t1.321\t4.036\t0.555\t1.772\t3.070\t1.310\t1.622\t0.512\t0.860\t0.764\n",
    "#RMSE\t813.520\t597.387\t21.351\t911.898\t432.101\t988.123\t636.106\t16.004\t50.139\t28.340\n",
    "\n",
    "\n",
    "\n",
    "dataset=DataSet(data_dir+'NILM/Results/FHMM_60s_first_pred.h5')  #mejor caombinacion\n",
    "#\tElectric furnace\tMicrowave\tTelevision\tKettle\tVacuum cleaner\tElectric space heater\tElectric shower heater\tFan\tFridge\tFreezer\n",
    "#F1\t0.229\t0.062\t0.606\t0.121\t0.176\t0.176\t0.143\t0.519\t0.591\t0.410\n",
    "#EAE\t0.000\t0.000\t0.000\t0.000\t0.000\t0.000\t0.000\t0.000\t0.000\t0.000\n",
    "#MNEAP\t1.185\t3.618\t0.576\t1.714\t2.094\t1.258\t2.275\t0.623\t0.665\t0.742\n",
    "#RMSE\t741.077\t312.334\t20.639\t546.771\t218.454\t896.857\t733.203\t17.190\t34.358\t28.030\n",
    "\n",
    "\n",
    "\n",
    "#dataset=DataSet(data_dir+'NILM/Results/FHMM_60s_mean_pred.h5')  #peor\n",
    "#\tElectric furnace\tMicrowave\tTelevision\tKettle\tVacuum cleaner\tElectric space heater\tElectric shower heater\tFan\tFridge\tFreezer\n",
    "#F1\t0.229\t0.000\t0.556\t0.154\t0.176\t0.176\t0.200\t0.621\t0.370\t0.410\n",
    "#EAE\t0.000\t0.000\t0.000\t0.000\t0.000\t0.000\t0.000\t0.000\t0.000\t0.000\n",
    "#MNEAP\t1.187\t3.363\t0.672\t1.751\t2.102\t1.285\t1.883\t0.491\t0.811\t0.743\n",
    "#RMSE\t740.492\t457.833\t21.546\t741.205\t218.785\t890.742\t609.811\t13.708\t45.738\t27.580\n",
    "\n",
    "#dataset=DataSet(data_dir+'NILM/Results/FHMM_60s_median_pred.h5')  # peor\n",
    "#Electric furnace\tMicrowave\tTelevision\tKettle\tVacuum cleaner\tElectric space heater\tElectric shower heater\tFan\tFridge\tFreezer\n",
    "#F1\t0.229\t0.062\t0.588\t0.121\t0.176\t0.176\t0.154\t0.538\t0.591\t0.410\n",
    "#EAE\t0.000\t0.000\t0.000\t0.000\t0.000\t0.000\t0.000\t0.000\t0.000\t0.000\n",
    "#MNEAP\t1.186\t3.608\t0.553\t1.745\t2.094\t1.292\t2.100\t0.617\t0.647\t0.742\n",
    "#RMSE\t740.686\t311.707\t20.135\t548.464\t218.454\t889.334\t700.789\t17.143\t33.161\t28.030\n",
    "\n",
    "\n",
    "\n",
    "\n",
    "\n",
    "#dataset=DataSet(data_dir+'NILM/Results/FHMM_5min_first_pred.h5')\n",
    "#\tElectric furnace\tMicrowave\tTelevision\tKettle\tVacuum cleaner\tElectric space heater\tElectric shower heater\tFan\tFridge\tFreezer\n",
    "#F1\t0.000\t0.000\t0.000\t0.000\t0.000\t0.000\t0.000\t0.000\t0.000\t0.000\n",
    "#EAE\t0.000\t0.000\t0.000\t0.000\t0.000\t0.000\t0.000\t0.000\t0.000\t0.000\n",
    "#MNEAP\t0.727\t1.710\t0.373\t1.932\t1.483\t0.667\t0.964\t0.226\t0.600\t0.734\n",
    "#RMSE\t438.311\t172.978\t10.829\t519.063\t170.282\t400.247\t241.407\t5.661\t30.039\t28.245\n",
    "\n",
    "\n",
    "\n",
    "#dataset=DataSet(data_dir+'NILM/Results/FHMM_10min_first_pred.h5')\n",
    "#\tElectric furnace\tMicrowave\tTelevision\tKettle\tVacuum cleaner\tElectric space heater\tElectric shower heater\tFan\tFridge\tFreezer\n",
    "#F1\t0.000\t0.000\t0.000\t0.000\t0.000\t0.000\t0.000\t0.000\t0.000\t0.000\n",
    "#EAE\t0.000\t0.000\t0.000\t0.000\t0.000\t0.000\t0.000\t0.000\t0.000\t0.000\n",
    "#MNEAP\t0.982\t0.924\t0.447\t1.363\t1.084\t0.596\t0.691\t0.181\t0.600\t0.734\n",
    "#RMSE\t440.672\t132.695\t12.320\t385.279\t104.484\t336.998\t189.104\t3.873\t29.731\t22.928\n",
    "\n",
    "\n",
    "\n",
    "\n",
    "\n",
    "#dataset=DataSet(data_dir+'NILM/Results/CO_1s_first_pred.h5')\n",
    "#Electric furnace\tMicrowave\tTelevision\tKettle\tVacuum cleaner\tElectric space heater\tElectric shower heater\tFan\tFridge\tFreezer\n",
    "#F1\t0.428\t0.117\t0.697\t0.287\t0.246\t0.439\t0.308\t0.522\t0.511\t0.428\n",
    "#EAE\t0.000\t0.000\t0.000\t0.000\t0.000\t0.000\t0.000\t0.000\t0.000\t0.000\n",
    "#MNEAP\t1.214\t4.056\t0.667\t1.119\t2.255\t1.003\t1.741\t0.847\t3.705\t5.057\n",
    "#RMSE\t974.404\t558.082\t23.151\t731.294\t334.550\t1001.271\t635.497\t21.679\t307.709\t275.889\n",
    "\n",
    "\n",
    "\n",
    "#dataset=DataSet(data_dir+'NILM/Results/CO_1s_mean_pred.h5')\n",
    "#\tElectric furnace\tMicrowave\tTelevision\tKettle\tVacuum cleaner\tElectric space heater\tElectric shower heater\tFan\tFridge\tFreezer\n",
    "#F1\t0.428\t0.117\t0.697\t0.287\t0.246\t0.439\t0.308\t0.522\t0.511\t0.428\n",
    "#EAE\t0.000\t0.000\t0.000\t0.000\t0.000\t0.000\t0.000\t0.000\t0.000\t0.000\n",
    "#MNEAP\t1.214\t4.056\t0.667\t1.119\t2.255\t1.003\t1.741\t0.847\t3.705\t5.057\n",
    "#RMSE\t974.404\t558.082\t23.151\t731.294\t334.550\t1001.271\t635.497\t21.679\t307.709\t275.889\n",
    "\n",
    "\n",
    "#dataset=DataSet(data_dir+'NILM/Results/CO_1s_median_pred.h5')\n",
    "#\tElectric furnace\tMicrowave\tTelevision\tKettle\tVacuum cleaner\tElectric space heater\tElectric shower heater\tFan\tFridge\tFreezer\n",
    "#F1\t0.428\t0.117\t0.697\t0.287\t0.246\t0.439\t0.308\t0.522\t0.511\t0.428\n",
    "#EAE\t0.000\t0.000\t0.000\t0.000\t0.000\t0.000\t0.000\t0.000\t0.000\t0.000\n",
    "#MNEAP\t1.214\t4.056\t0.667\t1.119\t2.255\t1.003\t1.741\t0.847\t3.705\t5.057\n",
    "#RMSE\t974.404\t558.082\t23.151\t731.294\t334.550\t1001.271\t635.497\t21.679\t307.709\t275.889\n",
    "\n",
    "\n",
    "\n",
    "\n",
    "#dataset=DataSet(data_dir+'NILM/Results/CO_35s_first_pred.h5')\n",
    "#Electric furnace\tMicrowave\tTelevision\tKettle\tVacuum cleaner\tElectric space heater\tElectric shower heater\tFan\tFridge\tFreezer\n",
    "#F1\t0.000\t0.061\t0.657\t0.158\t0.154\t0.000\t0.421\t0.525\t0.459\t0.000\n",
    "#EAE\t0.246\t0.060\t0.001\t0.194\t0.083\t0.274\t0.222\t0.002\t0.005\t0.016\n",
    "#MNEAP\t1.000\t3.247\t0.576\t2.504\t3.016\t1.000\t2.094\t0.814\t1.006\t1.000\n",
    "#RMSE\t934.841\t436.967\t22.229\t1092.728\t424.086\t1112.618\t726.598\t21.136\t56.483\t40.305\n",
    "\n",
    "\n",
    "#dataset=DataSet(data_dir+'NILM/Results/CO_60s_first_pred.h5')\n",
    "#Electric furnace\tMicrowave\tTelevision\tKettle\tVacuum cleaner\tElectric space heater\tElectric shower heater\tFan\tFridge\tFreezer\n",
    "#F1\t0.000\t0.000\t0.708\t0.000\t0.000\t0.000\t0.231\t0.550\t0.000\t0.000\n",
    "#EAE\t0.000\t0.000\t0.000\t0.000\t0.000\t0.000\t0.000\t0.000\t0.000\t0.000\n",
    "#MNEAP\t1.000\t1.000\t0.437\t1.000\t1.000\t1.000\t2.959\t0.606\t1.000\t1.000\n",
    "#RMSE\t881.447\t256.102\t17.708\t600.323\t226.004\t1026.863\t850.140\t16.666\t53.534\t39.728\n",
    "\n",
    "\n",
    "\n",
    "\n",
    "#dataset=DataSet(data_dir+'NILM/Results/CO_5min_first_pred.h5')\n",
    "#\tElectric furnace\tMicrowave\tTelevision\tKettle\tVacuum cleaner\tElectric space heater\tElectric shower heater\tFan\tFridge\tFreezer\n",
    "#F1\t0.000\t0.000\t0.0\t0.000\t0.000\t0.000\t0.000\t0.00\t0.00\t0.000\n",
    "#EAE\t0.000\t0.000\t0.0\t0.000\t0.000\t0.000\t0.000\t0.00\t0.00\t0.000\n",
    "#MNEAP\t1.000\t1.000\t1.0\t1.000\t1.000\t1.000\t1.000\t1.00\t1.00\t1.000\n",
    "#RMSE\t565.425\t190.747\t27.4\t484.436\t193.314\t670.383\t336.871\t21.03\t48.42\t34.852\n",
    "\n",
    "\n",
    "\n",
    "\n",
    "\n",
    "\n",
    "\n",
    "\n",
    "\n",
    "\n",
    "\n",
    "\n",
    "predictions=dataset.buildings[1].elec.submeters()      \n",
    "\n",
    "#Metricas\n",
    "f1 = {};\n",
    "eae = {};\n",
    "feac = {};\n",
    "mneap = {};\n",
    "rmse = {};\n",
    "\n",
    "\n",
    "\n",
    "f1['F1'] = f1_score(predictions, valid_Devices)\n",
    "\n",
    "EAE = error_in_assigned_energy(predictions, valid_Devices)\n",
    "\n",
    "for x in range(len(EAE)): e.append(EAE.iloc[x][0])\n",
    "eae['EAE'] = e\n",
    "#da error esta medida AttributeError: 'tuple' object has no attribute 'instance'\n",
    "#feac['FEAC'] = np.ones(6)*(fraction_energy_assigned_correctly(predictions, valid_Devices))\n",
    "#feac['FEAC'] = np.ones(6)*(fraction_energy_assigned_correctly(predictions, valid_Devices))\n",
    "mneap['MNEAP'] = mean_normalized_error_power(predictions, valid_Devices)\n",
    "rmse['RMSE'] = rms_error_power(predictions, valid_Devices)\n",
    "met.append(pd.concat([pd.DataFrame(feac, index=valid_Devices.instance()),\n",
    "                      pd.DataFrame(f1),\n",
    "                      pd.DataFrame(eae, index=valid_Devices.instance()),\n",
    "                      pd.DataFrame(mneap),\n",
    "                      pd.DataFrame(rmse)],\n",
    "                     axis=1).set_index(pd.Index(index)))\n",
    "\n",
    "dataset.store.close()       \n",
    "print('\\n\\nDone!')\n",
    "metrics=met[0].transpose().round(3)\n",
    "metrics"
   ]
  },
  {
   "cell_type": "markdown",
   "metadata": {},
   "source": [
    "Carga de datos de predicciones y GT en memoria"
   ]
  },
  {
   "cell_type": "code",
   "execution_count": 20,
   "metadata": {},
   "outputs": [],
   "source": [
    "gt=valid_elec.dataframe_of_meters(ac_type='active', sample_period=1, resample_kwargs={'how':'first'})\n",
    "\n",
    "\n",
    "labels = pd.DataFrame({'Instances': list(range(1,12)),\n",
    "                       'Meters': ['Main', 'Electric furnace', 'Microwave','Television','Kettle','Vacuum cleaner','Electric space heater','Electric shower heater','Fan','Fridge','Freezer']})\n",
    "\n",
    "\n",
    "Meters={}\n",
    "for x in range(len(labels)): Meters[valid_elec[x+1]]=labels['Meters'][x]\n",
    "    \n",
    "\n",
    "    \n",
    "    \n",
    "#resultados de predicción modelo CO 60s\n",
    "CO_60s_first=DataSet(data_dir+'NILM/Results/CO_60s_first_pred.h5')\n",
    "elec_CO_60s_first=CO_60s_first.buildings[1].elec\n",
    "\n",
    "#resultados de predicción modelo FHMM 60s\n",
    "FHMM_60s_first=DataSet(data_dir+'NILM/Results/FHMM_60s_first_pred.h5')\n",
    "elec_FHMM_60s_first= FHMM_60s_first.buildings[1].elec    \n",
    "    \n",
    "    \n",
    "\n",
    "gt.columns=list(Meters.values())\n",
    "pred_CO=elec_CO_60s_first.dataframe_of_meters(ac_type='active')\n",
    "\n",
    "pred_CO.columns=[list(Meters.values())[0]]+list(Meters.values())[1:12]\n",
    "\n",
    "pred_FHMM=elec_FHMM_60s_first.dataframe_of_meters(ac_type='active')\n",
    "\n",
    "pred_FHMM.columns=[list(Meters.values())[0]]+list(Meters.values())[1:12]"
   ]
  },
  {
   "cell_type": "markdown",
   "metadata": {},
   "source": [
    "### Análisis particular del cálculo de cada métrica\n",
    "\n",
    "Metrica FEAC ( da problema con AttributeError: 'tuple' object has no attribute 'instance')"
   ]
  },
  {
   "cell_type": "code",
   "execution_count": 21,
   "metadata": {},
   "outputs": [],
   "source": [
    "#Carga de datos de predicciones y GT en memoria\n",
    "#gt=valid_elec.dataframe_of_meters(ac_type='active', sample_period=60, resample_kwargs={'how':'first'})\n",
    "#gt.columns=list(Meters.values())"
   ]
  },
  {
   "cell_type": "code",
   "execution_count": 22,
   "metadata": {},
   "outputs": [],
   "source": [
    "#predictions_Devices=elec_CO_60s_first.submeters()\n",
    "\n",
    "#frac_1 = valid_Devices.fraction_per_meter()\n",
    "#frac_2 = predictions_Devices.fraction_per_meter()\n",
    "#fig, (ax1, ax2) = plt.subplots(1, 2 ,gridspec_kw={'hspace': 0.1, 'wspace': 0.1})\n",
    "\n",
    "#frac_1.plot(autopct=lambda p:'{:.0f}%'.format(p), kind='pie',labels=list(Meters.values())[1:6], figsize=(8,8), ax=ax1,   colors=['tab:blue','tab:orange','tab:green','tab:olive','tab:purple','tab:cyan'])\n",
    "#frac_2.plot(autopct=lambda p:'{:.0f}%'.format(p), kind='pie',  labels=list(Meters.values())[1:6], figsize=(8,8), ax=ax2,  colors=['tab:blue','tab:orange','tab:green','tab:olive','tab:purple','tab:cyan']) \n",
    "\n",
    "#ax1.set(ylabel=\"\")\n",
    "#ax1.set(xlabel=\"GT\")\n",
    "#ax2.set(ylabel=\"\")\n",
    "#ax2.set(xlabel=\"Predictions\")\n",
    "#plt.savefig('./data/images/5.4_FEAC_CO_60s.svg', bbox_inches='tight', transparent=True)\n",
    "#pass"
   ]
  },
  {
   "cell_type": "markdown",
   "metadata": {},
   "source": [
    "## Métrica F1"
   ]
  },
  {
   "cell_type": "markdown",
   "metadata": {},
   "source": [
    "Esta métrica mide la precisión o asertividad del modelo entrenado mediante el cálculo de la media armónica utilizando las métricas Precision y Recall. Estas métricas son calculadas internamente por NILMTK mediante la matriz de confusión, vease la ecuación de la figura siguiente."
   ]
  },
  {
   "cell_type": "markdown",
   "metadata": {},
   "source": [
    "![metricas](metricas.jpg)"
   ]
  },
  {
   "cell_type": "markdown",
   "metadata": {},
   "source": [
    "Precision se entiende como la fracción de cortes de tiempo en los que se predijo correctamente que un proceso estaba activo, pero realmente se encontraba apagado. Por lo contrario, Recall hace referencia a la fracción de cortes de tiempo en los que se predijo correctamente que el dispositivo estaba encendido y realmente se encontraba encendido ."
   ]
  },
  {
   "cell_type": "code",
   "execution_count": 23,
   "metadata": {},
   "outputs": [
    {
     "data": {
      "text/html": [
       "<div>\n",
       "<style scoped>\n",
       "    .dataframe tbody tr th:only-of-type {\n",
       "        vertical-align: middle;\n",
       "    }\n",
       "\n",
       "    .dataframe tbody tr th {\n",
       "        vertical-align: top;\n",
       "    }\n",
       "\n",
       "    .dataframe thead th {\n",
       "        text-align: right;\n",
       "    }\n",
       "</style>\n",
       "<table border=\"1\" class=\"dataframe\">\n",
       "  <thead>\n",
       "    <tr style=\"text-align: right;\">\n",
       "      <th></th>\n",
       "      <th>Electric furnace</th>\n",
       "      <th>Microwave</th>\n",
       "      <th>Television</th>\n",
       "      <th>Kettle</th>\n",
       "      <th>Vacuum cleaner</th>\n",
       "      <th>Electric space heater</th>\n",
       "      <th>Electric shower heater</th>\n",
       "      <th>Fan</th>\n",
       "      <th>Fridge</th>\n",
       "      <th>Freezer</th>\n",
       "    </tr>\n",
       "  </thead>\n",
       "  <tbody>\n",
       "    <tr>\n",
       "      <th>F1</th>\n",
       "      <td>22.9</td>\n",
       "      <td>6.2</td>\n",
       "      <td>60.6</td>\n",
       "      <td>12.1</td>\n",
       "      <td>17.6</td>\n",
       "      <td>17.6</td>\n",
       "      <td>14.3</td>\n",
       "      <td>51.9</td>\n",
       "      <td>59.1</td>\n",
       "      <td>41.0</td>\n",
       "    </tr>\n",
       "  </tbody>\n",
       "</table>\n",
       "</div>"
      ],
      "text/plain": [
       "    Electric furnace  Microwave  Television  Kettle  Vacuum cleaner  \\\n",
       "F1              22.9        6.2        60.6    12.1            17.6   \n",
       "\n",
       "    Electric space heater  Electric shower heater   Fan  Fridge  Freezer  \n",
       "F1                   17.6                    14.3  51.9    59.1     41.0  "
      ]
     },
     "execution_count": 23,
     "metadata": {},
     "output_type": "execute_result"
    }
   ],
   "source": [
    "pd.DataFrame(metrics.loc['F1']).transpose()*100"
   ]
  },
  {
   "cell_type": "code",
   "execution_count": 25,
   "metadata": {},
   "outputs": [
    {
     "data": {
      "image/png": "[encoded data removed]",
      "text/plain": [
       "<Figure size 720x288 with 1 Axes>"
      ]
     },
     "metadata": {
      "needs_background": "light"
     },
     "output_type": "display_data"
    }
   ],
   "source": [
    "rcParams['figure.figsize'] = (10, 4)\n",
    "\n",
    "t0='2023-03-07 12:10:38+01:00' #tiempo inicial\n",
    "t1='2023-03-07 12:41:00+01:00' #tiempo final\n",
    "\n",
    "\n",
    "fig, ax1 = plt.subplots();\n",
    "ax1=gt['Electric furnace'].plot(lw=4, c='tab:orange')\n",
    "pred_CO['Electric furnace'].plot(ax=ax1, c='darkred', lw=1.5, ls='--')\n",
    "ax1.legend(labels=['Electric furnace','Pred_CO'], fontsize=9, loc='upper left', ncol=1)\n",
    "ax1.set_ylim(-10,250)\n",
    "ax1.set_xlim(t0,t1)\n",
    "ax1.minorticks_off()\n",
    "\n",
    "ax1.set_ylabel('Power (W)')\n",
    "\n",
    "\n",
    "\n",
    "plt.savefig('./data/images/5.5_F1_CO_60s.svg', bbox_inches='tight', transparent=True)\n",
    "pass"
   ]
  },
  {
   "cell_type": "code",
   "execution_count": 100,
   "metadata": {},
   "outputs": [
    {
     "data": {
      "image/png": "[encoded data removed]",
      "text/plain": [
       "<Figure size 720x288 with 1 Axes>"
      ]
     },
     "metadata": {
      "needs_background": "light"
     },
     "output_type": "display_data"
    }
   ],
   "source": [
    "rcParams['figure.figsize'] = (10, 4)\n",
    "\n",
    "\n",
    "fig, ax1 = plt.subplots();\n",
    "ax1=gt['Microwave'].plot(lw=4, c='tab:orange')\n",
    "pred_CO['Microwave'].plot(ax=ax1, c='darkred', lw=1.5, ls='--')\n",
    "ax1.legend(labels=['Microwave','Pred_CO'], fontsize=9, loc='upper left', ncol=1)\n",
    "ax1.set_ylim(-10,250)\n",
    "ax1.set_xlim(t0,t1)\n",
    "ax1.minorticks_off()\n",
    "\n",
    "ax1.set_ylabel('Power (W)')\n",
    "\n",
    "       \n",
    "\n",
    "plt.savefig('./data/images/5.5_F1_CO_30s.svg', bbox_inches='tight', transparent=True)\n",
    "pass"
   ]
  },
  {
   "cell_type": "code",
   "execution_count": 26,
   "metadata": {},
   "outputs": [
    {
     "data": {
      "image/png": "[encoded data removed]",
      "text/plain": [
       "<Figure size 720x288 with 1 Axes>"
      ]
     },
     "metadata": {
      "needs_background": "light"
     },
     "output_type": "display_data"
    }
   ],
   "source": [
    "rcParams['figure.figsize'] = (10, 4)\n",
    "\n",
    "fig, ax1 = plt.subplots();\n",
    "ax1=gt['Television'].plot(lw=4, c='tab:orange')\n",
    "pred_CO['Television'].plot(ax=ax1, c='darkred', lw=1.5, ls='--')\n",
    "ax1.legend(labels=['Television','Pred_CO'], fontsize=9, loc='upper left', ncol=1)\n",
    "ax1.set_ylim(-10,250)\n",
    "ax1.set_xlim(t0,t1)\n",
    "ax1.minorticks_off()\n",
    "\n",
    "ax1.set_ylabel('Power (W)')\n",
    "\n",
    "\n",
    "\n",
    "plt.savefig('./data/images/5.5_F1_CO_60s.svg', bbox_inches='tight', transparent=True)\n",
    "pass"
   ]
  },
  {
   "cell_type": "code",
   "execution_count": 102,
   "metadata": {},
   "outputs": [
    {
     "data": {
      "image/png": "[encoded data removed]",
      "text/plain": [
       "<Figure size 720x288 with 1 Axes>"
      ]
     },
     "metadata": {
      "needs_background": "light"
     },
     "output_type": "display_data"
    }
   ],
   "source": [
    "rcParams['figure.figsize'] = (10, 4)\n",
    "\n",
    "fig, ax1 = plt.subplots();\n",
    "ax1=gt['Kettle'].plot(lw=4, c='tab:orange')\n",
    "pred_CO['Kettle'].plot(ax=ax1, c='darkred', lw=1.5, ls='--')\n",
    "ax1.legend(labels=['Kettle','Pred_CO'], fontsize=9, loc='upper left', ncol=1)\n",
    "ax1.set_ylim(-10,250)\n",
    "ax1.set_xlim(t0,t1)\n",
    "ax1.minorticks_off()\n",
    "\n",
    "ax1.set_ylabel('Power (W)')\n",
    "\n",
    "plt.savefig('./data/images/5.5_F1_CO_60s.svg', bbox_inches='tight', transparent=True)\n",
    "pass"
   ]
  },
  {
   "cell_type": "code",
   "execution_count": 27,
   "metadata": {},
   "outputs": [
    {
     "data": {
      "image/png": "[encoded data removed]",
      "text/plain": [
       "<Figure size 720x288 with 1 Axes>"
      ]
     },
     "metadata": {
      "needs_background": "light"
     },
     "output_type": "display_data"
    }
   ],
   "source": [
    "rcParams['figure.figsize'] = (10, 4)\n",
    "\n",
    "fig, ax1 = plt.subplots();\n",
    "ax1=gt['Vacuum cleaner'].plot(lw=4, c='tab:orange')\n",
    "pred_CO['Vacuum cleaner'].plot(ax=ax1, c='darkred', lw=1.5, ls='--')\n",
    "ax1.legend(labels=['Vacuum cleaner','Pred_CO'], fontsize=9, loc='upper left', ncol=1)\n",
    "ax1.set_ylim(-10,250)\n",
    "ax1.set_xlim(t0,t1)\n",
    "ax1.minorticks_off()\n",
    "\n",
    "ax1.set_ylabel('Power (W)')\n",
    "\n",
    "\n",
    "\n",
    "plt.savefig('./data/images/5.5_F1_CO_60s.svg', bbox_inches='tight', transparent=True)\n",
    "pass"
   ]
  },
  {
   "cell_type": "code",
   "execution_count": 104,
   "metadata": {},
   "outputs": [
    {
     "data": {
      "image/png": "[encoded data removed]",
      "text/plain": [
       "<Figure size 720x288 with 1 Axes>"
      ]
     },
     "metadata": {
      "needs_background": "light"
     },
     "output_type": "display_data"
    }
   ],
   "source": [
    "rcParams['figure.figsize'] = (10, 4)\n",
    "\n",
    "fig, ax1 = plt.subplots();\n",
    "ax1=gt['Electric space heater'].plot(lw=4, c='tab:orange')\n",
    "pred_CO['Electric space heater'].plot(ax=ax1, c='darkred', lw=1.5, ls='--')\n",
    "ax1.legend(labels=['Electric space heater','Pred_CO'], fontsize=9, loc='upper left', ncol=1)\n",
    "ax1.set_ylim(-10,250)\n",
    "ax1.set_xlim(t0,t1)\n",
    "ax1.minorticks_off()\n",
    "ax1.set_xticklabels(labels=['10:00','10:10','10:20','10:30','10:40','10:50','11:00','11:15'] , horizontalalignment ='right')  \n",
    "\n",
    "ax1.set_ylabel('Power (W)')\n",
    "\n",
    "\n",
    "\n",
    "\n",
    "plt.savefig('./data/images/5.5_F1_CO_30s.svg', bbox_inches='tight', transparent=True)\n",
    "pass"
   ]
  },
  {
   "cell_type": "code",
   "execution_count": 105,
   "metadata": {},
   "outputs": [
    {
     "data": {
      "image/png": "[encoded data removed]",
      "text/plain": [
       "<Figure size 720x288 with 1 Axes>"
      ]
     },
     "metadata": {
      "needs_background": "light"
     },
     "output_type": "display_data"
    }
   ],
   "source": [
    "rcParams['figure.figsize'] = (10, 4)\n",
    "\n",
    "\n",
    "fig, ax1 = plt.subplots();\n",
    "ax1=gt['Electric shower heater'].plot(lw=4, c='tab:orange')\n",
    "pred_CO['Electric shower heater'].plot(ax=ax1, c='darkred', lw=1.5, ls='--')\n",
    "ax1.legend(labels=['Electric shower heater','Pred_CO'], fontsize=9, loc='upper left', ncol=1)\n",
    "ax1.set_ylim(-10,250)\n",
    "ax1.set_xlim(t0,t1)\n",
    "ax1.minorticks_off()\n",
    "\n",
    "ax1.set_ylabel('Power (W)')\n",
    "\n",
    "\n",
    "\n",
    "plt.savefig('./data/images/5.5_F1_CO_60s.svg', bbox_inches='tight', transparent=True)\n",
    "pass"
   ]
  },
  {
   "cell_type": "code",
   "execution_count": 28,
   "metadata": {},
   "outputs": [
    {
     "data": {
      "image/png": "[encoded data removed]",
      "text/plain": [
       "<Figure size 720x288 with 1 Axes>"
      ]
     },
     "metadata": {
      "needs_background": "light"
     },
     "output_type": "display_data"
    }
   ],
   "source": [
    "rcParams['figure.figsize'] = (10, 4)\n",
    "\n",
    "fig, ax1 = plt.subplots();\n",
    "ax1=gt['Fan'].plot(lw=4, c='tab:orange')\n",
    "pred_CO['Fan'].plot(ax=ax1, c='darkred', lw=1.5, ls='--')\n",
    "ax1.legend(labels=['Fan','Pred_CO'], fontsize=9, loc='upper left', ncol=1)\n",
    "ax1.set_ylim(-10,250)\n",
    "ax1.set_xlim(t0,t1)\n",
    "ax1.minorticks_off()\n",
    "\n",
    "ax1.set_ylabel('Power (W)')\n",
    "\n",
    "\n",
    "\n",
    "plt.savefig('./data/images/5.5_F1_CO_60s.svg', bbox_inches='tight', transparent=True)\n",
    "pass"
   ]
  },
  {
   "cell_type": "code",
   "execution_count": 107,
   "metadata": {},
   "outputs": [
    {
     "data": {
      "image/png": "[encoded data removed]",
      "text/plain": [
       "<Figure size 720x288 with 1 Axes>"
      ]
     },
     "metadata": {
      "needs_background": "light"
     },
     "output_type": "display_data"
    }
   ],
   "source": [
    "rcParams['figure.figsize'] = (10, 4)\n",
    "\n",
    "fig, ax1 = plt.subplots();\n",
    "ax1=gt['Fridge'].plot(lw=4, c='tab:orange')\n",
    "pred_CO['Fridge'].plot(ax=ax1, c='darkred', lw=1.5, ls='--')\n",
    "ax1.legend(labels=['Fridge','Pred_CO'], fontsize=9, loc='upper left', ncol=1)\n",
    "ax1.set_ylim(-10,250)\n",
    "ax1.set_xlim(t0,t1)\n",
    "ax1.minorticks_off()\n",
    "\n",
    "ax1.set_ylabel('Power (W)')\n",
    "\n",
    "         \n",
    "\n",
    "plt.savefig('./data/images/5.5_F1_CO_30s.svg', bbox_inches='tight', transparent=True)\n",
    "pass"
   ]
  },
  {
   "cell_type": "code",
   "execution_count": 29,
   "metadata": {},
   "outputs": [
    {
     "data": {
      "image/png": "[encoded data removed]",
      "text/plain": [
       "<Figure size 720x288 with 1 Axes>"
      ]
     },
     "metadata": {
      "needs_background": "light"
     },
     "output_type": "display_data"
    }
   ],
   "source": [
    "rcParams['figure.figsize'] = (10, 4)\n",
    "fig, ax1 = plt.subplots();\n",
    "ax1=gt['Freezer'].plot(lw=4, c='tab:orange')\n",
    "pred_CO['Freezer'].plot(ax=ax1, c='darkred', lw=1.5, ls='--')\n",
    "ax1.legend(labels=['Freezer','Pred_CO'], fontsize=9, loc='upper left', ncol=1)\n",
    "ax1.set_ylim(-10,250)\n",
    "ax1.set_xlim(t0,t1)\n",
    "ax1.minorticks_off()\n",
    "ax1.set_ylabel('Power (W)')\n",
    "\n",
    "\n",
    "\n",
    "\n",
    "plt.savefig('./data/images/5.5_F1_CO_60s.svg', bbox_inches='tight', transparent=True)\n",
    "pass"
   ]
  },
  {
   "cell_type": "markdown",
   "metadata": {},
   "source": [
    "## Métrica EAE"
   ]
  },
  {
   "cell_type": "markdown",
   "metadata": {},
   "source": [
    "La ecuación de la figura representa la diferencia entre la energía total asignada yˆt(n) energía total consumida yt(n) por el proceso n de la industria en kWh "
   ]
  },
  {
   "cell_type": "markdown",
   "metadata": {},
   "source": [
    "![metricas](metricas.jpg)"
   ]
  },
  {
   "cell_type": "code",
   "execution_count": 30,
   "metadata": {},
   "outputs": [
    {
     "data": {
      "text/html": [
       "<div>\n",
       "<style scoped>\n",
       "    .dataframe tbody tr th:only-of-type {\n",
       "        vertical-align: middle;\n",
       "    }\n",
       "\n",
       "    .dataframe tbody tr th {\n",
       "        vertical-align: top;\n",
       "    }\n",
       "\n",
       "    .dataframe thead th {\n",
       "        text-align: right;\n",
       "    }\n",
       "</style>\n",
       "<table border=\"1\" class=\"dataframe\">\n",
       "  <thead>\n",
       "    <tr style=\"text-align: right;\">\n",
       "      <th></th>\n",
       "      <th>Electric furnace</th>\n",
       "      <th>Microwave</th>\n",
       "      <th>Television</th>\n",
       "      <th>Kettle</th>\n",
       "      <th>Vacuum cleaner</th>\n",
       "      <th>Electric space heater</th>\n",
       "      <th>Electric shower heater</th>\n",
       "      <th>Fan</th>\n",
       "      <th>Fridge</th>\n",
       "      <th>Freezer</th>\n",
       "    </tr>\n",
       "  </thead>\n",
       "  <tbody>\n",
       "    <tr>\n",
       "      <th>EAE</th>\n",
       "      <td>0.0</td>\n",
       "      <td>0.0</td>\n",
       "      <td>0.0</td>\n",
       "      <td>0.0</td>\n",
       "      <td>0.0</td>\n",
       "      <td>0.0</td>\n",
       "      <td>0.0</td>\n",
       "      <td>0.0</td>\n",
       "      <td>0.0</td>\n",
       "      <td>0.0</td>\n",
       "    </tr>\n",
       "  </tbody>\n",
       "</table>\n",
       "</div>"
      ],
      "text/plain": [
       "     Electric furnace  Microwave  Television  Kettle  Vacuum cleaner  \\\n",
       "EAE               0.0        0.0         0.0     0.0             0.0   \n",
       "\n",
       "     Electric space heater  Electric shower heater  Fan  Fridge  Freezer  \n",
       "EAE                    0.0                     0.0  0.0     0.0      0.0  "
      ]
     },
     "execution_count": 30,
     "metadata": {},
     "output_type": "execute_result"
    }
   ],
   "source": [
    "round(pd.DataFrame(metrics.loc['EAE']).transpose(),2)"
   ]
  },
  {
   "cell_type": "code",
   "execution_count": 31,
   "metadata": {},
   "outputs": [
    {
     "data": {
      "text/html": [
       "<div>\n",
       "<style scoped>\n",
       "    .dataframe tbody tr th:only-of-type {\n",
       "        vertical-align: middle;\n",
       "    }\n",
       "\n",
       "    .dataframe tbody tr th {\n",
       "        vertical-align: top;\n",
       "    }\n",
       "\n",
       "    .dataframe thead th {\n",
       "        text-align: right;\n",
       "    }\n",
       "</style>\n",
       "<table border=\"1\" class=\"dataframe\">\n",
       "  <thead>\n",
       "    <tr style=\"text-align: right;\">\n",
       "      <th></th>\n",
       "      <th>kWh</th>\n",
       "    </tr>\n",
       "  </thead>\n",
       "  <tbody>\n",
       "    <tr>\n",
       "      <th>Energy_pred</th>\n",
       "      <td>0.002683</td>\n",
       "    </tr>\n",
       "    <tr>\n",
       "      <th>Energy_GT</th>\n",
       "      <td>0.002683</td>\n",
       "    </tr>\n",
       "    <tr>\n",
       "      <th>EAE</th>\n",
       "      <td>0.000000</td>\n",
       "    </tr>\n",
       "  </tbody>\n",
       "</table>\n",
       "</div>"
      ],
      "text/plain": [
       "                  kWh\n",
       "Energy_pred  0.002683\n",
       "Energy_GT    0.002683\n",
       "EAE          0.000000"
      ]
     },
     "execution_count": 31,
     "metadata": {},
     "output_type": "execute_result"
    }
   ],
   "source": [
    "predictions_Devices=elec_CO_60s_first.submeters()\n",
    "e1=predictions_Devices[10].total_energy()[0]\n",
    "e2=valid_Devices[10].total_energy()[0]\n",
    "eae=round(abs(e1-e2),2)\n",
    "\n",
    "pd.DataFrame([e1,e2,eae], columns=['kWh'], index=['Energy_pred','Energy_GT','EAE'])"
   ]
  },
  {
   "cell_type": "markdown",
   "metadata": {},
   "source": [
    "## Métrica MNEAP"
   ]
  },
  {
   "cell_type": "markdown",
   "metadata": {},
   "source": [
    "Este indicador que representa la ecuacion de la imagen  consta de la diferencia entre la potencia asignada yˆt(n) y la potencia real yt(n) de cada proceso de la industria, por cada intervalo de tiempo t. Después de sumar todas las diferencias de potencia, el resultado es normalizado por el consumo total de la energía del proceso "
   ]
  },
  {
   "cell_type": "markdown",
   "metadata": {},
   "source": [
    "![metricas](metricas.jpg)"
   ]
  },
  {
   "cell_type": "code",
   "execution_count": 32,
   "metadata": {},
   "outputs": [
    {
     "data": {
      "text/html": [
       "<div>\n",
       "<style scoped>\n",
       "    .dataframe tbody tr th:only-of-type {\n",
       "        vertical-align: middle;\n",
       "    }\n",
       "\n",
       "    .dataframe tbody tr th {\n",
       "        vertical-align: top;\n",
       "    }\n",
       "\n",
       "    .dataframe thead th {\n",
       "        text-align: right;\n",
       "    }\n",
       "</style>\n",
       "<table border=\"1\" class=\"dataframe\">\n",
       "  <thead>\n",
       "    <tr style=\"text-align: right;\">\n",
       "      <th></th>\n",
       "      <th>Electric furnace</th>\n",
       "      <th>Microwave</th>\n",
       "      <th>Television</th>\n",
       "      <th>Kettle</th>\n",
       "      <th>Vacuum cleaner</th>\n",
       "      <th>Electric space heater</th>\n",
       "      <th>Electric shower heater</th>\n",
       "      <th>Fan</th>\n",
       "      <th>Fridge</th>\n",
       "      <th>Freezer</th>\n",
       "    </tr>\n",
       "  </thead>\n",
       "  <tbody>\n",
       "    <tr>\n",
       "      <th>MNEAP</th>\n",
       "      <td>1.18</td>\n",
       "      <td>3.62</td>\n",
       "      <td>0.58</td>\n",
       "      <td>1.71</td>\n",
       "      <td>2.09</td>\n",
       "      <td>1.26</td>\n",
       "      <td>2.28</td>\n",
       "      <td>0.62</td>\n",
       "      <td>0.66</td>\n",
       "      <td>0.74</td>\n",
       "    </tr>\n",
       "  </tbody>\n",
       "</table>\n",
       "</div>"
      ],
      "text/plain": [
       "       Electric furnace  Microwave  Television  Kettle  Vacuum cleaner  \\\n",
       "MNEAP              1.18       3.62        0.58    1.71            2.09   \n",
       "\n",
       "       Electric space heater  Electric shower heater   Fan  Fridge  Freezer  \n",
       "MNEAP                   1.26                    2.28  0.62    0.66     0.74  "
      ]
     },
     "execution_count": 32,
     "metadata": {},
     "output_type": "execute_result"
    }
   ],
   "source": [
    "round(pd.DataFrame(metrics.loc['MNEAP']).transpose(),2)"
   ]
  },
  {
   "cell_type": "markdown",
   "metadata": {},
   "source": [
    "## Métrica RMSE"
   ]
  },
  {
   "cell_type": "markdown",
   "metadata": {},
   "source": [
    "Esta métrica de la ecuación de la figura es muy utilizada en la comparaciónn de diversos conjuntos de datos, consiste en el error cuadrático medio de la diferencia entre la potencia asignada yˆt(n) y la potencia real yt(n) del proceso de los applicativos , en cada intervalo de tiempo t ."
   ]
  },
  {
   "cell_type": "markdown",
   "metadata": {},
   "source": [
    "![metricas](metricas.jpg)"
   ]
  },
  {
   "cell_type": "code",
   "execution_count": 33,
   "metadata": {},
   "outputs": [
    {
     "data": {
      "text/html": [
       "<div>\n",
       "<style scoped>\n",
       "    .dataframe tbody tr th:only-of-type {\n",
       "        vertical-align: middle;\n",
       "    }\n",
       "\n",
       "    .dataframe tbody tr th {\n",
       "        vertical-align: top;\n",
       "    }\n",
       "\n",
       "    .dataframe thead th {\n",
       "        text-align: right;\n",
       "    }\n",
       "</style>\n",
       "<table border=\"1\" class=\"dataframe\">\n",
       "  <thead>\n",
       "    <tr style=\"text-align: right;\">\n",
       "      <th></th>\n",
       "      <th>Electric furnace</th>\n",
       "      <th>Microwave</th>\n",
       "      <th>Television</th>\n",
       "      <th>Kettle</th>\n",
       "      <th>Vacuum cleaner</th>\n",
       "      <th>Electric space heater</th>\n",
       "      <th>Electric shower heater</th>\n",
       "      <th>Fan</th>\n",
       "      <th>Fridge</th>\n",
       "      <th>Freezer</th>\n",
       "    </tr>\n",
       "  </thead>\n",
       "  <tbody>\n",
       "    <tr>\n",
       "      <th>RMSE</th>\n",
       "      <td>741.1</td>\n",
       "      <td>312.3</td>\n",
       "      <td>20.6</td>\n",
       "      <td>546.8</td>\n",
       "      <td>218.5</td>\n",
       "      <td>896.9</td>\n",
       "      <td>733.2</td>\n",
       "      <td>17.2</td>\n",
       "      <td>34.4</td>\n",
       "      <td>28.0</td>\n",
       "    </tr>\n",
       "  </tbody>\n",
       "</table>\n",
       "</div>"
      ],
      "text/plain": [
       "      Electric furnace  Microwave  Television  Kettle  Vacuum cleaner  \\\n",
       "RMSE             741.1      312.3        20.6   546.8           218.5   \n",
       "\n",
       "      Electric space heater  Electric shower heater   Fan  Fridge  Freezer  \n",
       "RMSE                  896.9                   733.2  17.2    34.4     28.0  "
      ]
     },
     "execution_count": 33,
     "metadata": {},
     "output_type": "execute_result"
    }
   ],
   "source": [
    "round(pd.DataFrame(metrics.loc['RMSE']).transpose(),1)"
   ]
  },
  {
   "cell_type": "markdown",
   "metadata": {},
   "source": [
    "## Resultados de todos los modelos"
   ]
  },
  {
   "cell_type": "code",
   "execution_count": 34,
   "metadata": {},
   "outputs": [
    {
     "name": "stdout",
     "output_type": "stream",
     "text": [
      "\n",
      "Calculando Metricas: CO_60s_first\n",
      "\n",
      "Calculando Metricas: FHMM_60s_first\n",
      "\n",
      "Calculando Metricas: CO_60s_mean\n",
      "\n",
      "Calculando Metricas: FHMM_60s_mean\n",
      "\n",
      "Calculando Metricas: CO_60s_median\n",
      "\n",
      "Calculando Metricas: FHMM_60s_median\n",
      "\n",
      "Calculando Metricas: CO_5min_first\n",
      "\n",
      "Calculando Metricas: FHMM_5min_first\n",
      "\n",
      "Calculando Metricas: CO_5min_mean\n",
      "\n",
      "Calculando Metricas: FHMM_5min_mean\n",
      "\n",
      "Calculando Metricas: CO_5min_median\n",
      "\n",
      "Calculando Metricas: FHMM_5min_median\n",
      "\n",
      "Calculando Metricas: CO_10min_first\n",
      "\n",
      "Calculando Metricas: FHMM_10min_first\n",
      "\n",
      "Calculando Metricas: CO_10min_mean\n",
      "\n",
      "Calculando Metricas: FHMM_10min_mean\n",
      "\n",
      "Calculando Metricas: CO_10min_median\n",
      "\n",
      "Calculando Metricas: FHMM_10min_median\n",
      "\n",
      "\n",
      "Done!\n"
     ]
    }
   ],
   "source": [
    "from nilmtk.metrics import fraction_energy_assigned_correctly, f1_score, error_in_assigned_energy\n",
    "from nilmtk.metrics import mean_normalized_error_power, rms_error_power \n",
    "periods = { '60s':60, '5min':60*5, '10min':60*10}\n",
    "\n",
    "dir_predictions = data_dir +'NILM/Results/'\n",
    "m = {}\n",
    "classifiers = ['CO', 'FHMM']\n",
    "methods = ['first', 'mean', 'median']\n",
    "index = list(labels['Meters'][1:12])\n",
    "\n",
    "for p_name, sp in periods.items():\n",
    "    met = []\n",
    "    for method in methods:\n",
    "        for clf_name in classifiers:\n",
    "            print('\\nCalculando Metricas: '+ clf_name + '_' + p_name + '_' + method)  \n",
    "           \n",
    "            #Datos de Dispositivos: predicción\n",
    "            input_dir = dir_predictions + clf_name + '_' + p_name + '_' + method +'_pred.h5'\n",
    "            dataset = DataSet(input_dir)\n",
    "            predictions=dataset.buildings[1].elec.submeters()       \n",
    "            \n",
    "            #Metricas\n",
    "            f1 = {};\n",
    "            eae = {};\n",
    "            feac = {};\n",
    "            mneap = {};\n",
    "            rmse = {};\n",
    "            e=[];  \n",
    "            \n",
    "            \n",
    "            F1 = f1_score(predictions, valid_Devices)\n",
    "            f1['F1'] = F1*100\n",
    "            EAE = error_in_assigned_energy(predictions, valid_Devices)\n",
    "            \n",
    "            for x in range(len(EAE)): e.append(EAE.iloc[x][0])\n",
    "            eae['EAE'] = e\n",
    "            #da error para FEAC\n",
    "            #feac['FEAC'] = 100*np.ones(6)*(fraction_energy_assigned_correctly(predictions, valid_Devices))\n",
    "            mneap['MNEAP'] = mean_normalized_error_power(predictions, valid_Devices)\n",
    "            rmse['RMSE'] = rms_error_power(predictions, valid_Devices)\n",
    "            met.append(pd.concat([pd.DataFrame(feac, index=valid_Devices.instance()),\n",
    "                                  pd.DataFrame(f1),\n",
    "                                  pd.DataFrame(eae, index=valid_Devices.instance()),\n",
    "                                  pd.DataFrame(mneap),\n",
    "                                  pd.DataFrame(rmse)],\n",
    "                                 axis=1).set_index(pd.Index(index)))\n",
    "            dataset.store.close()        \n",
    "    m[p_name] = met\n",
    "\n",
    "##Guardamos resultados\n",
    "f = open(data_dir +'NILM/metrics.txt',\"w\")\n",
    "f.write( str(m) )\n",
    "f.close()\n",
    "print('\\n\\nDone!')\n",
    "\n"
   ]
  },
  {
   "cell_type": "markdown",
   "metadata": {},
   "source": [
    "## Otras Metricas: métricas Promedio"
   ]
  },
  {
   "cell_type": "code",
   "execution_count": 35,
   "metadata": {},
   "outputs": [
    {
     "data": {
      "text/plain": [
       "{'F1':         CO-first    CO-mean  CO-median  FHMM-first  FHMM-mean  FHMM-median\n",
       " 60s    14.891026  19.047619  15.323635   30.338265  28.922308    30.469332\n",
       " 5min    0.000000   0.000000   0.000000    0.000000   0.000000     0.000000\n",
       " 10min   0.000000   0.000000   0.000000    0.000000   0.000000     0.000000,\n",
       " 'EAE':        CO-first  CO-mean  CO-median  FHMM-first  FHMM-mean  FHMM-median\n",
       " 60s         0.0      0.0        0.0         0.0        0.0          0.0\n",
       " 5min        0.0      0.0        0.0         0.0        0.0          0.0\n",
       " 10min       0.0      0.0        0.0         0.0        0.0          0.0,\n",
       " 'MNEAP':        CO-first   CO-mean  CO-median  FHMM-first  FHMM-mean  FHMM-median\n",
       " 60s    1.100252  1.633417   1.126496    1.475023   1.428703     1.458553\n",
       " 5min   1.000000  1.000000   1.000000    0.941538   1.011431     0.752507\n",
       " 10min  1.000000  1.000000   1.000000    0.760147   0.728643     0.798384,\n",
       " 'RMSE':          CO-first     CO-mean   CO-median  FHMM-first   FHMM-mean  FHMM-median\n",
       " 60s    396.851337  445.959114  399.506097  354.891200  376.743834   350.790182\n",
       " 5min   257.287944  257.287944  257.287944  201.706079  197.541311   215.658895\n",
       " 10min  210.602307  210.602307  210.602307  165.808534  122.273990   193.274110}"
      ]
     },
     "execution_count": 35,
     "metadata": {},
     "output_type": "execute_result"
    }
   ],
   "source": [
    "m_mean = {}\n",
    "\n",
    "#cols=['FEAC','F1','EAE','MNEAP','RMSE']\n",
    "\n",
    "cols=['F1','EAE','MNEAP','RMSE']\n",
    "labels=['CO-first', 'CO-mean', 'CO-median', 'FHMM-first', 'FHMM-mean' ,'FHMM-median']\n",
    "per=['60s','5min','10min']\n",
    "\n",
    "for c in cols:\n",
    "    m_mean[c] = pd.DataFrame([#CO FIRST\n",
    "                             [m['60s'][0][c].mean(),\n",
    "                              m['5min'][0][c].mean(),m['10min'][0][c].mean()],\n",
    "                              #CO MEAN\n",
    "                             [m['60s'][2][c].mean(),\n",
    "                              m['5min'][2][c].mean(),m['10min'][2][c].mean()],\n",
    "                              #CO MEDIAN\n",
    "                             [m['60s'][4][c].mean(),\n",
    "                              m['5min'][4][c].mean(),m['10min'][4][c].mean()],\n",
    "                             #FHMM FIRST\n",
    "                             [m['60s'][1][c].mean(),\n",
    "                             m['5min'][1][c].mean(),m['10min'][1][c].mean()],\n",
    "                             #FHMM MEAN            \n",
    "                             [m['60s'][3][c].mean(),\n",
    "                              m['5min'][3][c].mean(),m['10min'][3][c].mean()],\n",
    "                             #FHMM MEDIAN\n",
    "                             [m['60s'][5][c].mean(),\n",
    "                              m['5min'][5][c].mean(),m['10min'][5][c].mean()]],columns=per, index=labels).transpose()\n",
    "m_mean\n",
    "\n"
   ]
  },
  {
   "cell_type": "markdown",
   "metadata": {},
   "source": [
    "## Maximos\n"
   ]
  },
  {
   "cell_type": "code",
   "execution_count": 36,
   "metadata": {},
   "outputs": [
    {
     "data": {
      "text/html": [
       "<div>\n",
       "<style scoped>\n",
       "    .dataframe tbody tr th:only-of-type {\n",
       "        vertical-align: middle;\n",
       "    }\n",
       "\n",
       "    .dataframe tbody tr th {\n",
       "        vertical-align: top;\n",
       "    }\n",
       "\n",
       "    .dataframe thead th {\n",
       "        text-align: right;\n",
       "    }\n",
       "</style>\n",
       "<table border=\"1\" class=\"dataframe\">\n",
       "  <thead>\n",
       "    <tr style=\"text-align: right;\">\n",
       "      <th></th>\n",
       "      <th>60s</th>\n",
       "      <th>5min</th>\n",
       "      <th>10min</th>\n",
       "    </tr>\n",
       "  </thead>\n",
       "  <tbody>\n",
       "    <tr>\n",
       "      <th>F1</th>\n",
       "      <td>30.47</td>\n",
       "      <td>0.00</td>\n",
       "      <td>0.00</td>\n",
       "    </tr>\n",
       "    <tr>\n",
       "      <th>EAE</th>\n",
       "      <td>0.00</td>\n",
       "      <td>0.00</td>\n",
       "      <td>0.00</td>\n",
       "    </tr>\n",
       "    <tr>\n",
       "      <th>MNEAP</th>\n",
       "      <td>1.10</td>\n",
       "      <td>0.75</td>\n",
       "      <td>0.73</td>\n",
       "    </tr>\n",
       "    <tr>\n",
       "      <th>RMSE</th>\n",
       "      <td>350.79</td>\n",
       "      <td>197.54</td>\n",
       "      <td>122.27</td>\n",
       "    </tr>\n",
       "  </tbody>\n",
       "</table>\n",
       "</div>"
      ],
      "text/plain": [
       "          60s    5min   10min\n",
       "F1      30.47    0.00    0.00\n",
       "EAE      0.00    0.00    0.00\n",
       "MNEAP    1.10    0.75    0.73\n",
       "RMSE   350.79  197.54  122.27"
      ]
     },
     "execution_count": 36,
     "metadata": {},
     "output_type": "execute_result"
    }
   ],
   "source": [
    "cols=['F1','EAE','MNEAP','RMSE']\n",
    "\n",
    "maxs=pd.concat([m_mean['F1'].transpose().max(),\n",
    "                m_mean['EAE'].transpose().min(),\n",
    "                m_mean['MNEAP'].transpose().min(),\n",
    "                m_mean['RMSE'].transpose().min()], axis=1)\n",
    "maxs.columns=cols\n",
    "maxs = maxs.transpose()\n",
    "round(maxs,2)"
   ]
  },
  {
   "cell_type": "markdown",
   "metadata": {},
   "source": [
    "## Correspondencia de Indice"
   ]
  },
  {
   "cell_type": "code",
   "execution_count": 37,
   "metadata": {},
   "outputs": [
    {
     "data": {
      "text/html": [
       "<div>\n",
       "<style scoped>\n",
       "    .dataframe tbody tr th:only-of-type {\n",
       "        vertical-align: middle;\n",
       "    }\n",
       "\n",
       "    .dataframe tbody tr th {\n",
       "        vertical-align: top;\n",
       "    }\n",
       "\n",
       "    .dataframe thead th {\n",
       "        text-align: right;\n",
       "    }\n",
       "</style>\n",
       "<table border=\"1\" class=\"dataframe\">\n",
       "  <thead>\n",
       "    <tr style=\"text-align: right;\">\n",
       "      <th></th>\n",
       "      <th>60s</th>\n",
       "      <th>5min</th>\n",
       "      <th>10min</th>\n",
       "    </tr>\n",
       "  </thead>\n",
       "  <tbody>\n",
       "    <tr>\n",
       "      <th>F1</th>\n",
       "      <td>FHMM-median</td>\n",
       "      <td>CO-first</td>\n",
       "      <td>CO-first</td>\n",
       "    </tr>\n",
       "    <tr>\n",
       "      <th>EAE</th>\n",
       "      <td>CO-first</td>\n",
       "      <td>CO-first</td>\n",
       "      <td>CO-first</td>\n",
       "    </tr>\n",
       "    <tr>\n",
       "      <th>MNEAP</th>\n",
       "      <td>CO-first</td>\n",
       "      <td>FHMM-median</td>\n",
       "      <td>FHMM-mean</td>\n",
       "    </tr>\n",
       "    <tr>\n",
       "      <th>RMSE</th>\n",
       "      <td>FHMM-median</td>\n",
       "      <td>FHMM-mean</td>\n",
       "      <td>FHMM-mean</td>\n",
       "    </tr>\n",
       "  </tbody>\n",
       "</table>\n",
       "</div>"
      ],
      "text/plain": [
       "               60s         5min      10min\n",
       "F1     FHMM-median     CO-first   CO-first\n",
       "EAE       CO-first     CO-first   CO-first\n",
       "MNEAP     CO-first  FHMM-median  FHMM-mean\n",
       "RMSE   FHMM-median    FHMM-mean  FHMM-mean"
      ]
     },
     "execution_count": 37,
     "metadata": {},
     "output_type": "execute_result"
    }
   ],
   "source": [
    "cols=['F1','EAE','MNEAP','RMSE']\n",
    "\n",
    "maxs_i=pd.concat([m_mean['F1'].transpose().idxmax(),\n",
    "                 m_mean['EAE'].transpose().idxmin(),\n",
    "                 m_mean['MNEAP'].transpose().idxmin(),\n",
    "                 m_mean['RMSE'].transpose().idxmin()], axis=1)\n",
    "maxs_i.columns=cols\n",
    "maxs_i = maxs_i.transpose()\n",
    "maxs_i"
   ]
  },
  {
   "cell_type": "code",
   "execution_count": 38,
   "metadata": {},
   "outputs": [
    {
     "data": {
      "image/png": "[encoded data removed]",
      "text/plain": [
       "<Figure size 720x828 with 4 Axes>"
      ]
     },
     "metadata": {
      "needs_background": "light"
     },
     "output_type": "display_data"
    }
   ],
   "source": [
    "rcParams['figure.figsize'] = (10, 11.5)\n",
    "fig, (ax2,ax3,ax4,ax5) = plt.subplots(4, 1, sharex=True, gridspec_kw={'hspace': 0.35})\n",
    "cols=['F1','EAE','MNEAP','RMSE']\n",
    "ylabels=['[%]','[%]','[kWh]','[-]','[W]']\n",
    "per=['60s','5min','10min']\n",
    "\n",
    "labels={'CO-first':-0.35, 'CO-mean':-0.22, 'CO-median':-0.11, 'FHMM-first':0.01, 'FHMM-mean':0.13 ,'FHMM-median':0.245}\n",
    "\n",
    "c=0\n",
    "for ax in fig.get_axes():      \n",
    "    m_mean[cols[c]].plot.bar(ax=ax, width=0.7, edgecolor='black', linewidth=0.5, legend=False, cmap=\"jet\")\n",
    "    ax.set(ylabel=ylabels[c])\n",
    "    ax.grid(b=None)\n",
    "    x = 0\n",
    "    for p in per:\n",
    "        ax.annotate(\"▼\", xy=(labels[maxs_i[p][cols[c]]]+x, maxs[p][cols[c]]+maxs[p][cols[c]]*0.03))\n",
    "        x+=1\n",
    "    c+=1\n",
    "    \n",
    "ax5.set_xticklabels(labels=per, rotation=0, fontdict={'fontsize':12})\n",
    "fig.align_ylabels([(ax2,ax3,ax4,ax5)])\n",
    "ax2.set(ylim=(0,120))\n",
    "ax2.set_yticks([0,25,50,75,100])\n",
    "\n",
    "ax5.set_yticks([0,50,100,150,200])\n",
    "\n",
    "ax2.set_title('F1-Score', fontsize=11, loc='center')\n",
    "ax3.set_title('Error in Assigned Energy - EAE', fontsize=11, loc='center')\n",
    "ax4.set_title('Mean Normalised Error in Assigned Power - MNEAP', fontsize=11, loc='center')\n",
    "ax5.set_title('RMS Error in Assigned Power - RMSE', fontsize=11, loc='center')\n",
    "lgd = ax5.legend(labels.keys(), loc='lower center', ncol=6, bbox_to_anchor=(0.5, -0.6),fontsize=9.5)\n",
    "\n",
    "\n",
    "#ax2.annotate(\"90.5%\", xy=(0.68, 98)); #30s FHMM-mean\n",
    "#ax3.annotate(\"0.19\", xy=(6.22, 1.4)); #30min FHMM-median\n",
    "ax3.annotate(\"kWh\", xy=(6.22, 0.9)); #30min FHMM-median\n",
    "#ax4.annotate(\"0.24\", xy=(6.22, 0.7)); #30min FHMM-median\n",
    "#ax5.annotate(\"41.5\", xy=(6.22, 120)); #30min FHMM-median\n",
    "ax5.annotate(\"   W\", xy=(6.22, 90)); #30min FHMM-median\n",
    "\n",
    "\n",
    "plt.savefig('./data/images/5.7_All_metrics.svg', bbox_inches='tight', transparent=True)\n",
    "\n",
    "pass"
   ]
  },
  {
   "cell_type": "code",
   "execution_count": 39,
   "metadata": {},
   "outputs": [
    {
     "data": {
      "image/png": "[encoded data removed]",
      "text/plain": [
       "<Figure size 720x576 with 4 Axes>"
      ]
     },
     "metadata": {
      "needs_background": "light"
     },
     "output_type": "display_data"
    }
   ],
   "source": [
    "rcParams['figure.figsize'] = (10, 8)\n",
    "\n",
    "fig, (ax2,ax3,ax4,ax5) = plt.subplots(4, 1, sharex=False, gridspec_kw={'hspace': 0.35})\n",
    "\n",
    "#cols=['FEAC','F1','EAE','MNEAP','RMSE']\n",
    "cols=['F1','EAE','MNEAP','RMSE']\n",
    "\n",
    "ylabels=['[%]','[%]','[kWh]','[-]','[W]']\n",
    "labels=['FHMM-first', 'FHMM-mean' ,'FHMM-median']\n",
    "c=0\n",
    "\n",
    "for ax in fig.get_axes():\n",
    "    \n",
    "    df=pd.DataFrame([m['60s'][1][cols[c]],m['60s'][3][cols[c]],m['60s'][5][cols[c]]]).transpose()\n",
    "    #if ax==ax1:\n",
    "    #    df['FEAC'].mean().plot.barh(ax=ax1, width=0.7, edgecolor='black', linewidth=0.5, legend=False,   color=['greenyellow','darkorange','maroon'])\n",
    "    #else:\n",
    "    #     df.plot.bar(ax=ax, width=0.7, edgecolor='black', linewidth=0.5, legend=False,   color=['greenyellow','darkorange','maroon'])\n",
    " \n",
    "    df.plot.bar(ax=ax, width=0.7, edgecolor='black', linewidth=0.5, legend=False,   color=['greenyellow','darkorange','maroon'])\n",
    "    ax.set(ylabel=ylabels[c])\n",
    "    ax.grid(b=None)\n",
    "    c+=1   \n",
    "    \n",
    "\n",
    "ax2.set_xticklabels('')\n",
    "ax3.set_xticklabels('')\n",
    "ax4.set_xticklabels('')\n",
    "ax5.set_xticklabels(ax5.get_xticklabels(), rotation=0, fontdict={'fontsize':12})\n",
    "fig.align_ylabels([(ax1,ax2,ax3,ax4,ax5)])\n",
    "ax3.set_yticks([0,1,2,3,4])\n",
    "ax4.set(ylim=(0,1.8))\n",
    "ax4.set_yticks([0,0.5,1,1.5,2])\n",
    "ax5.set(ylim=(0,270))\n",
    "ax5.set_yticks([0,100,200,300])\n",
    "ax2.set_title('F1-Score', fontsize=11, loc='center')\n",
    "ax3.set_title('Error in Assigned Energy - EAE', fontsize=11, loc='center')\n",
    "ax4.set_title('Mean Normalised Error in Assigned Power - MNEAP', fontsize=11, loc='center')\n",
    "ax5.set_title('RMS Error in Assigned Power - RMSE', fontsize=11, loc='center')\n",
    "lgd = ax5.legend(labels, loc='lower center', ncol=3, bbox_to_anchor=(0.5, -0.8))\n",
    "\n",
    "\n",
    "plt.savefig('./data/images/5.8_All_metrics_2.svg', bbox_inches='tight', transparent=True)\n",
    "\n",
    "pass"
   ]
  },
  {
   "cell_type": "code",
   "execution_count": 40,
   "metadata": {},
   "outputs": [
    {
     "name": "stdout",
     "output_type": "stream",
     "text": [
      "FHMM-first\n",
      "                               F1  EAE     MNEAP        RMSE\n",
      "Electric furnace        22.857143  0.0  1.184765  741.077241\n",
      "Microwave                6.250000  0.0  3.618095  312.333936\n",
      "Television              60.606061  0.0  0.575630   20.639079\n",
      "Kettle                  12.121212  0.0  1.714355  546.771179\n",
      "Vacuum cleaner          17.647059  0.0  2.094394  218.453968\n",
      "Electric space heater   17.647059  0.0  1.257808  896.856514\n",
      "Electric shower heater  14.285714  0.0  2.274748  733.202696\n",
      "Fan                     51.851852  0.0  0.622861   17.189585\n",
      "Fridge                  59.090909  0.0  0.665225   34.357984\n",
      "Freezer                 41.025641  0.0  0.742346   28.029819\n",
      "\n",
      "FHMM-mean\n",
      "                               F1  EAE     MNEAP        RMSE\n",
      "Electric furnace        22.857143  0.0  1.186511  740.491661\n",
      "Microwave                0.000000  0.0  3.362984  457.832730\n",
      "Television              55.555556  0.0  0.671821   21.546427\n",
      "Kettle                  15.384615  0.0  1.751432  741.205414\n",
      "Vacuum cleaner          17.647059  0.0  2.101739  218.784539\n",
      "Electric space heater   17.647059  0.0  1.284673  890.741817\n",
      "Electric shower heater  20.000000  0.0  1.882515  609.810536\n",
      "Fan                     62.068966  0.0  0.490672   13.708090\n",
      "Fridge                  37.037037  0.0  0.811294   45.737502\n",
      "Freezer                 41.025641  0.0  0.743386   27.579628\n",
      "\n",
      "FHMM-median\n",
      "                               F1  EAE     MNEAP        RMSE\n",
      "Electric furnace        22.857143  0.0  1.185929  740.685556\n",
      "Microwave                6.250000  0.0  3.608115  311.706742\n",
      "Television              58.823529  0.0  0.552916   20.135408\n",
      "Kettle                  12.121212  0.0  1.745457  548.464177\n",
      "Vacuum cleaner          17.647059  0.0  2.094394  218.453968\n",
      "Electric space heater   17.647059  0.0  1.291784  889.333787\n",
      "Electric shower heater  15.384615  0.0  2.100103  700.788668\n",
      "Fan                     53.846154  0.0  0.617413   17.142846\n",
      "Fridge                  59.090909  0.0  0.647074   33.160846\n",
      "Freezer                 41.025641  0.0  0.742346   28.029819\n"
     ]
    }
   ],
   "source": [
    "print('FHMM-first')\n",
    "print(m['60s'][1])\n",
    "print('\\nFHMM-mean')\n",
    "print(m['60s'][3])\n",
    "print('\\nFHMM-median')\n",
    "print(m['60s'][5])"
   ]
  },
  {
   "cell_type": "markdown",
   "metadata": {},
   "source": [
    "### Resultados del mejor modelo\n",
    "En vista de los resultados del obtenidos, se propone la elección del modelo FHMM entrenado con datos promedio de dispositivos cada 30 segundos. Este modelo solo se considera adecuado para la desagregación de datos promedio de potencia activa medidos en cabecera cada 30 segundos."
   ]
  },
  {
   "cell_type": "markdown",
   "metadata": {},
   "source": [
    "\n",
    " ## INDICES DEL DATAFRAME\n",
    "\n",
    "CO_60s_first:0\n",
    "\n",
    "FHMM_60s_first:1\n",
    "\n",
    "CO_60s_mean:2\n",
    "\n",
    "FHMM_60s_mean :3\n",
    "\n",
    "CO_60s_median:4\n",
    "\n",
    "FHMM_60s_median:5\n",
    "\n",
    "\n",
    "------------------------------\n",
    "\n",
    "\n",
    "CO_5min_first:6\n",
    "\n",
    "FHMM_5min_first:7\n",
    "\n",
    "CO_5min_mean:8\n",
    "\n",
    "FHMM_5min_mean:9\n",
    "\n",
    "CO_5min_median:10\n",
    "\n",
    " FHMM_5min_median:11\n",
    "\n",
    "\n",
    "----------------------------\n",
    "\n",
    "\n",
    "CO_10min_first:12\n",
    "\n",
    "FHMM_10min_first:13\n",
    "\n",
    "CO_10min_mean:14\n",
    "\n",
    "FHMM_10min_mean :15\n",
    "\n",
    "CO_10min_median:16\n",
    "\n",
    "FHMM_10min_median:17"
   ]
  },
  {
   "cell_type": "code",
   "execution_count": 41,
   "metadata": {},
   "outputs": [
    {
     "data": {
      "image/png": "[encoded data removed]",
      "text/plain": [
       "<Figure size 720x576 with 4 Axes>"
      ]
     },
     "metadata": {
      "needs_background": "light"
     },
     "output_type": "display_data"
    }
   ],
   "source": [
    "rcParams['figure.figsize'] = (10, 8)\n",
    "\n",
    "fig, (ax2,ax3,ax4,ax5) = plt.subplots(4, 1, sharex=False, gridspec_kw={'hspace': 0.35})\n",
    "#cols=['FEAC','F1','EAE','MNEAP','RMSE']\n",
    "\n",
    "cols=['F1','EAE','MNEAP','RMSE']\n",
    "\n",
    "ylabels=['[%]','[%]','[kWh]','[-]','[W]']\n",
    "colors=['tab:red','tab:blue','tab:orange','tab:green','tab:olive','tab:purple','tab:cyan']\n",
    "c=0\n",
    "\n",
    "for ax in fig.get_axes():\n",
    "    df=pd.DataFrame(m['60s'][1][cols[c]])\n",
    "    df[cols[c]].plot.bar(ax=ax, width=0.7, edgecolor='black', linewidth=0.5, legend=False, color=colors)\n",
    "    ax.set(ylabel=ylabels[c])\n",
    "    ax.grid(b=None)\n",
    "    c+=1\n",
    "\n",
    "\n",
    "ax2.set_xticklabels('')\n",
    "ax3.set_xticklabels('')\n",
    "ax4.set_xticklabels('')\n",
    "ax5.set_xticklabels(ax5.get_xticklabels(), rotation=0, fontdict={'fontsize':12})\n",
    "\n",
    "fig.align_ylabels([(ax2,ax3,ax4,ax5)])\n",
    "\n",
    "ax2.set(ylim=(0,125))\n",
    "ax3.set(ylim=(0,1))\n",
    "ax4.set(ylim=(0,0.7))\n",
    "ax5.set(ylim=(0,110))\n",
    "\n",
    "ax2.set_yticks([0,25,50,75,100])\n",
    "ax3.set_yticks([0,1,2,3])\n",
    "ax4.set_yticks([0,1,2,3,4])\n",
    "ax5.set_yticks([0,50,100,150,200])\n",
    "\n",
    "\n",
    "ax2.set_title('F1-Score', fontsize=11, loc='center')\n",
    "ax3.set_title('Error in Assigned Energy - EAE', fontsize=11, loc='center')\n",
    "ax4.set_title('Mean Normalised Error in Assigned Power - MNEAP', fontsize=11, loc='center')\n",
    "ax5.set_title('RMS Error in Assigned Power - RMSE', fontsize=11, loc='center')\n",
    "\n",
    "df=pd.DataFrame(m['60s'][5])\n",
    "\n",
    "for x in range(5):ax2.annotate(str(round(df['F1'][x],1))+'%', xy=(x-0.18 , df['F1'][x]+4),fontsize=9.5)\n",
    "for x in range(5):ax3.annotate(str(round(df['EAE'][x],1))+' kWh', xy=(x-0.25 , df['EAE'][x]+0.1),fontsize=9.5)\n",
    "for x in range(5):ax4.annotate(str(round(df['MNEAP'][x],1)), xy=(x-0.08 , df['MNEAP'][x]+0.03),fontsize=9.5)\n",
    "for x in range(5):ax5.annotate(str(round(df['RMSE'][x]))+' W', xy=(x-0.18 , df['RMSE'][x]+5),fontsize=9.5)\n",
    "\n",
    "plt.savefig('./data/images/5.9_Metrics_FHMM_60min_median.svg', bbox_inches='tight', transparent=True)"
   ]
  },
  {
   "cell_type": "code",
   "execution_count": 42,
   "metadata": {},
   "outputs": [
    {
     "name": "stdout",
     "output_type": "stream",
     "text": [
      "Calculating total_energy for ElecMeterID(instance=11, building=1, dataset='dsualmh') ...   ElecMeterID(instance=6, building=1, dataset='dsualmh') ...   "
     ]
    },
    {
     "data": {
      "text/plain": [
       "reactive    0.027865\n",
       "active      0.937734\n",
       "apparent    0.942451\n",
       "dtype: float64"
      ]
     },
     "execution_count": 42,
     "metadata": {},
     "output_type": "execute_result"
    }
   ],
   "source": [
    "valid_Devices.total_energy()"
   ]
  },
  {
   "cell_type": "code",
   "execution_count": 43,
   "metadata": {},
   "outputs": [
    {
     "name": "stdout",
     "output_type": "stream",
     "text": [
      "10/10 ElecMeter(instance=11, building=1, dataset='dsualmh', appliances=[Appliance(type='freezer', instance=1)])instance=1)])"
     ]
    },
    {
     "data": {
      "text/html": [
       "<div>\n",
       "<style scoped>\n",
       "    .dataframe tbody tr th:only-of-type {\n",
       "        vertical-align: middle;\n",
       "    }\n",
       "\n",
       "    .dataframe tbody tr th {\n",
       "        vertical-align: top;\n",
       "    }\n",
       "\n",
       "    .dataframe thead th {\n",
       "        text-align: right;\n",
       "    }\n",
       "</style>\n",
       "<table border=\"1\" class=\"dataframe\">\n",
       "  <thead>\n",
       "    <tr style=\"text-align: right;\">\n",
       "      <th></th>\n",
       "      <th>(2, 1, dsualmh)</th>\n",
       "      <th>(3, 1, dsualmh)</th>\n",
       "      <th>(4, 1, dsualmh)</th>\n",
       "      <th>(5, 1, dsualmh)</th>\n",
       "      <th>(6, 1, dsualmh)</th>\n",
       "      <th>(7, 1, dsualmh)</th>\n",
       "      <th>(8, 1, dsualmh)</th>\n",
       "      <th>(9, 1, dsualmh)</th>\n",
       "      <th>(10, 1, dsualmh)</th>\n",
       "      <th>(11, 1, dsualmh)</th>\n",
       "    </tr>\n",
       "  </thead>\n",
       "  <tbody>\n",
       "    <tr>\n",
       "      <th>active</th>\n",
       "      <td>0.257866</td>\n",
       "      <td>0.041748</td>\n",
       "      <td>0.014156</td>\n",
       "      <td>0.132361</td>\n",
       "      <td>0.047653</td>\n",
       "      <td>0.274218</td>\n",
       "      <td>0.118968</td>\n",
       "      <td>0.010864</td>\n",
       "      <td>0.023874</td>\n",
       "      <td>0.016026</td>\n",
       "    </tr>\n",
       "    <tr>\n",
       "      <th>apparent</th>\n",
       "      <td>NaN</td>\n",
       "      <td>NaN</td>\n",
       "      <td>NaN</td>\n",
       "      <td>NaN</td>\n",
       "      <td>NaN</td>\n",
       "      <td>NaN</td>\n",
       "      <td>NaN</td>\n",
       "      <td>NaN</td>\n",
       "      <td>NaN</td>\n",
       "      <td>NaN</td>\n",
       "    </tr>\n",
       "    <tr>\n",
       "      <th>reactive</th>\n",
       "      <td>NaN</td>\n",
       "      <td>NaN</td>\n",
       "      <td>NaN</td>\n",
       "      <td>NaN</td>\n",
       "      <td>NaN</td>\n",
       "      <td>NaN</td>\n",
       "      <td>NaN</td>\n",
       "      <td>NaN</td>\n",
       "      <td>NaN</td>\n",
       "      <td>NaN</td>\n",
       "    </tr>\n",
       "  </tbody>\n",
       "</table>\n",
       "</div>"
      ],
      "text/plain": [
       "          (2, 1, dsualmh)  (3, 1, dsualmh)  (4, 1, dsualmh)  (5, 1, dsualmh)  \\\n",
       "active           0.257866         0.041748         0.014156         0.132361   \n",
       "apparent              NaN              NaN              NaN              NaN   \n",
       "reactive              NaN              NaN              NaN              NaN   \n",
       "\n",
       "          (6, 1, dsualmh)  (7, 1, dsualmh)  (8, 1, dsualmh)  (9, 1, dsualmh)  \\\n",
       "active           0.047653         0.274218         0.118968         0.010864   \n",
       "apparent              NaN              NaN              NaN              NaN   \n",
       "reactive              NaN              NaN              NaN              NaN   \n",
       "\n",
       "          (10, 1, dsualmh)  (11, 1, dsualmh)  \n",
       "active            0.023874          0.016026  \n",
       "apparent               NaN               NaN  \n",
       "reactive               NaN               NaN  "
      ]
     },
     "execution_count": 43,
     "metadata": {},
     "output_type": "execute_result"
    }
   ],
   "source": [
    "valid_Devices.energy_per_meter()"
   ]
  },
  {
   "cell_type": "markdown",
   "metadata": {},
   "source": [
    "### Replicando el entrenamiento del modelo"
   ]
  },
  {
   "cell_type": "code",
   "execution_count": 44,
   "metadata": {},
   "outputs": [
    {
     "name": "stdout",
     "output_type": "stream",
     "text": [
      "Training model for submeter 'ElecMeter(instance=2, building=1, dataset='dsualmh', appliances=[Appliance(type='electric furnace', instance=1)])' with 1 states\n",
      "Training model for submeter 'ElecMeter(instance=3, building=1, dataset='dsualmh', appliances=[Appliance(type='microwave', instance=1)])' with 1 states\n",
      "Training model for submeter 'ElecMeter(instance=4, building=1, dataset='dsualmh', appliances=[Appliance(type='television', instance=1)])' with 1 states\n",
      "Training model for submeter 'ElecMeter(instance=5, building=1, dataset='dsualmh', appliances=[Appliance(type='kettle', instance=1)])' with 1 states\n",
      "Training model for submeter 'ElecMeter(instance=6, building=1, dataset='dsualmh', appliances=[Appliance(type='vacuum cleaner', instance=1)])' with 1 states\n",
      "Training model for submeter 'ElecMeter(instance=7, building=1, dataset='dsualmh', appliances=[Appliance(type='electric space heater', instance=1)])' with 1 states\n",
      "Training model for submeter 'ElecMeter(instance=8, building=1, dataset='dsualmh', appliances=[Appliance(type='electric shower heater', instance=1)])' with 1 states\n",
      "Training model for submeter 'ElecMeter(instance=9, building=1, dataset='dsualmh', appliances=[Appliance(type='fan', instance=1)])' with 1 states\n",
      "Training model for submeter 'ElecMeter(instance=10, building=1, dataset='dsualmh', appliances=[Appliance(type='fridge', instance=1)])' with 1 states\n",
      "Training model for submeter 'ElecMeter(instance=11, building=1, dataset='dsualmh', appliances=[Appliance(type='freezer', instance=1)])' with 1 states\n",
      "\n",
      "\n",
      "Done!\n"
     ]
    }
   ],
   "source": [
    "from nilmtk import DataSet\n",
    "from nilmtk.legacy.disaggregate import FHMM\n",
    "\n",
    "\n",
    "train = DataSet('dsualmh.h5')\n",
    "\n",
    "train.set_window(start=\"2023-03-07 11:10:38\", end=\"2023-03-07 12:10:00\")\n",
    "\n",
    "train_elec=train.buildings[1].elec \n",
    "\n",
    "#dispositivos a entrenar: \n",
    "train_Devices=train_elec.select(instance=[2,3,4,5,6,7,8,9,10,11])\n",
    "\n",
    "\n",
    "\n",
    "#entrenamiento y exportación del modelo\n",
    "FHMM_30s_median=FHMM()\n",
    "FHMM_30s_median.MIN_CHUNK_LENGTH=1\n",
    "FHMM_30s_median.train(train_Devices,\n",
    "                        num_states_dict={}, #en otro caso: { }\n",
    "                        ac_type='active',\n",
    "                        sample_period=1800,\n",
    "                        resample_kwargs={'how':'median'})\n",
    "\n",
    "\n",
    "\n",
    "print('\\n\\nDone!')\n"
   ]
  },
  {
   "cell_type": "code",
   "execution_count": 45,
   "metadata": {},
   "outputs": [
    {
     "name": "stdout",
     "output_type": "stream",
     "text": [
      "Oven: [[8.42022292]]\n",
      "Microwave: [[6.93598286]]\n",
      "Television: [[25.17810504]]\n",
      "Kettle: [[8.86301327]]\n",
      "Vacuum Cleaner: [[6.55046384]]\n",
      "electric space heater: [[8.58766969]]\n",
      "electric shower heater: [[390.96100966]]\n",
      "Fan: [[8.19169585]]\n",
      "Fridge: [[9.16555341]]\n",
      "Freezer: [[8.20585855]]\n"
     ]
    }
   ],
   "source": [
    "from nilmtk.legacy.disaggregate import FHMM\n",
    "FHMM=FHMM()\n",
    "#FHMM.import_model('C:/data/FHMM_30s_median_model.pickle') \n",
    "print('Oven: '+str(FHMM_30s_median.individual[valid_Devices[2]].means_))\n",
    "print('Microwave: '+str(FHMM_30s_median.individual[valid_Devices[3]].means_))\n",
    "print('Television: '+str(FHMM_30s_median.individual[valid_Devices[4]].means_))\n",
    "print('Kettle: '+str(FHMM_30s_median.individual[valid_Devices[5]].means_))\n",
    "print('Vacuum Cleaner: '+str(FHMM_30s_median.individual[valid_Devices[6]].means_))\n",
    "\n",
    "print('electric space heater: '+str(FHMM_30s_median.individual[valid_Devices[7]].means_))\n",
    "print('electric shower heater: '+str(FHMM_30s_median.individual[valid_Devices[8]].means_))\n",
    "print('Fan: '+str(FHMM_30s_median.individual[valid_Devices[9]].means_))\n",
    "print('Fridge: '+str(FHMM_30s_median.individual[valid_Devices[10]].means_))\n",
    "print('Freezer: '+str(FHMM_30s_median.individual[valid_Devices[11]].means_))\n"
   ]
  },
  {
   "cell_type": "code",
   "execution_count": 46,
   "metadata": {},
   "outputs": [
    {
     "data": {
      "text/plain": [
       "GaussianHMM(covariance_type='full')"
      ]
     },
     "execution_count": 46,
     "metadata": {},
     "output_type": "execute_result"
    }
   ],
   "source": [
    "FHMM_30s_median.model"
   ]
  },
  {
   "cell_type": "code",
   "execution_count": 47,
   "metadata": {},
   "outputs": [
    {
     "data": {
      "text/plain": [
       "OrderedDict([(ElecMeter(instance=2, building=1, dataset='dsualmh', appliances=[Appliance(type='electric furnace', instance=1)]),\n",
       "              GaussianHMM(covariance_type='full')),\n",
       "             (ElecMeter(instance=3, building=1, dataset='dsualmh', appliances=[Appliance(type='microwave', instance=1)]),\n",
       "              GaussianHMM(covariance_type='full')),\n",
       "             (ElecMeter(instance=4, building=1, dataset='dsualmh', appliances=[Appliance(type='television', instance=1)]),\n",
       "              GaussianHMM(covariance_type='full')),\n",
       "             (ElecMeter(instance=5, building=1, dataset='dsualmh', appliances=[Appliance(type='kettle', instance=1)]),\n",
       "              GaussianHMM(covariance_type='full')),\n",
       "             (ElecMeter(instance=6, building=1, dataset='dsualmh', appliances=[Appliance(type='vacuum cleaner', instance=1)]),\n",
       "              GaussianHMM(covariance_type='full')),\n",
       "             (ElecMeter(instance=7, building=1, dataset='dsualmh', appliances=[Appliance(type='electric space heater', instance=1)]),\n",
       "              GaussianHMM(covariance_type='full')),\n",
       "             (ElecMeter(instance=8, building=1, dataset='dsualmh', appliances=[Appliance(type='electric shower heater', instance=1)]),\n",
       "              GaussianHMM(covariance_type='full')),\n",
       "             (ElecMeter(instance=9, building=1, dataset='dsualmh', appliances=[Appliance(type='fan', instance=1)]),\n",
       "              GaussianHMM(covariance_type='full')),\n",
       "             (ElecMeter(instance=10, building=1, dataset='dsualmh', appliances=[Appliance(type='fridge', instance=1)]),\n",
       "              GaussianHMM(covariance_type='full')),\n",
       "             (ElecMeter(instance=11, building=1, dataset='dsualmh', appliances=[Appliance(type='freezer', instance=1)]),\n",
       "              GaussianHMM(covariance_type='full'))])"
      ]
     },
     "execution_count": 47,
     "metadata": {},
     "output_type": "execute_result"
    }
   ],
   "source": [
    "FHMM_30s_median.individual"
   ]
  },
  {
   "cell_type": "code",
   "execution_count": null,
   "metadata": {},
   "outputs": [],
   "source": []
  },
  {
   "cell_type": "code",
   "execution_count": null,
   "metadata": {},
   "outputs": [],
   "source": []
  },
  {
   "cell_type": "code",
   "execution_count": null,
   "metadata": {},
   "outputs": [],
   "source": []
  }
 ],
 "metadata": {
  "kernelspec": {
   "display_name": "Python 3",
   "language": "python",
   "name": "python3"
  },
  "language_info": {
   "codemirror_mode": {
    "name": "ipython",
    "version": 3
   },
   "file_extension": ".py",
   "mimetype": "text/x-python",
   "name": "python",
   "nbconvert_exporter": "python",
   "pygments_lexer": "ipython3",
   "version": "3.6.13"
  },
  "vscode": {
   "interpreter": {
    "hash": "e4a48dd8b79d541d20bc536bef279503d1fdfeabbcb5717c4704330955a50f56"
   }
  }
 },
 "nbformat": 4,
 "nbformat_minor": 4
}
